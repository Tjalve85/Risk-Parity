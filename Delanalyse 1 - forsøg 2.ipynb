{
 "cells": [
  {
   "cell_type": "code",
   "execution_count": 1,
   "metadata": {},
   "outputs": [],
   "source": [
    "import pandas as pd\n",
    "import yfinance as yf\n",
    "import numpy as np\n",
    "import matplotlib.pyplot as plt\n",
    "import d1_riskkit_3101 as d1\n",
    "\n",
    "from datetime import datetime\n",
    "%matplotlib inline"
   ]
  },
  {
   "cell_type": "markdown",
   "metadata": {},
   "source": [
    "# Importering og filtrering af data"
   ]
  },
  {
   "cell_type": "markdown",
   "metadata": {},
   "source": [
    " ### Data for aktier og obligationer"
   ]
  },
  {
   "cell_type": "code",
   "execution_count": 2,
   "metadata": {},
   "outputs": [],
   "source": [
    "d1_data = pd.read_excel(\"Data/bondsandstocks_data.xlsx\",\n",
    "                      header=0, index_col=0, parse_dates=True)\n",
    "d1_data = d1_data['1973-01-31':'2020-12-31']"
   ]
  },
  {
   "cell_type": "code",
   "execution_count": 3,
   "metadata": {},
   "outputs": [],
   "source": [
    "# Her sættes værdi lig sidste business dag i måneden\n",
    "mnd_data = d1_data.resample('BMS').last()"
   ]
  },
  {
   "cell_type": "code",
   "execution_count": 4,
   "metadata": {},
   "outputs": [],
   "source": [
    "mnd_afkast = mnd_data.pct_change().dropna()"
   ]
  },
  {
   "cell_type": "code",
   "execution_count": 5,
   "metadata": {},
   "outputs": [],
   "source": [
    "# Her ændres datoformat til år og måned\n",
    "mnd_afkast.index = mnd_afkast.index.to_period('M')"
   ]
  },
  {
   "cell_type": "code",
   "execution_count": 6,
   "metadata": {},
   "outputs": [],
   "source": [
    "mnd_afkast.columns = ['Obligationer', 'Aktier']"
   ]
  },
  {
   "cell_type": "markdown",
   "metadata": {},
   "source": [
    "## Renter"
   ]
  },
  {
   "cell_type": "markdown",
   "metadata": {},
   "source": [
    "### Risikofri rente "
   ]
  },
  {
   "cell_type": "code",
   "execution_count": 7,
   "metadata": {},
   "outputs": [],
   "source": [
    "rf_data= pd.read_excel(\"Data/risikofri_rente.xlsx\",\n",
    "                      header=0, index_col=0, parse_dates=True)"
   ]
  },
  {
   "cell_type": "code",
   "execution_count": 8,
   "metadata": {},
   "outputs": [],
   "source": [
    "rf_år = rf_data['1973-01-31':'2020-12-31']/100"
   ]
  },
  {
   "cell_type": "code",
   "execution_count": 9,
   "metadata": {},
   "outputs": [],
   "source": [
    "rf_måned = (1+rf_år)**(1/12)-1"
   ]
  },
  {
   "cell_type": "code",
   "execution_count": 10,
   "metadata": {},
   "outputs": [],
   "source": [
    "# Her sættes værdi lig sidste business dag i måneden\n",
    "mnd_rf = rf_måned.resample('BMS').last()"
   ]
  },
  {
   "cell_type": "code",
   "execution_count": 11,
   "metadata": {},
   "outputs": [],
   "source": [
    "# Her ændres datoformat til år og måned\n",
    "mnd_rf.index = mnd_rf.index.to_period('M')"
   ]
  },
  {
   "cell_type": "code",
   "execution_count": 12,
   "metadata": {},
   "outputs": [],
   "source": [
    "mnd_rf.columns = ['Risikofri Rente']\n",
    "mnd_rf = mnd_rf['1973-02':]"
   ]
  },
  {
   "cell_type": "markdown",
   "metadata": {},
   "source": [
    "### Lånerente: Fed funds"
   ]
  },
  {
   "cell_type": "code",
   "execution_count": 13,
   "metadata": {},
   "outputs": [],
   "source": [
    "r_lån_data= pd.read_excel(\"Data/fed_funds.xlsx\",\n",
    "                      header=0, index_col=0, parse_dates=True)"
   ]
  },
  {
   "cell_type": "code",
   "execution_count": 14,
   "metadata": {},
   "outputs": [],
   "source": [
    "r_lån_år = r_lån_data['1973-01-31':'2020-12-31']/100"
   ]
  },
  {
   "cell_type": "code",
   "execution_count": 15,
   "metadata": {},
   "outputs": [],
   "source": [
    "r_lån_mnd = (1+r_lån_år)**(1/12)-1"
   ]
  },
  {
   "cell_type": "code",
   "execution_count": 16,
   "metadata": {},
   "outputs": [],
   "source": [
    "# Her sættes værdi lig sidste business dag i måneden\n",
    "mnd_lån = r_lån_mnd.resample('BMS').last()"
   ]
  },
  {
   "cell_type": "code",
   "execution_count": 17,
   "metadata": {},
   "outputs": [],
   "source": [
    "# Her ændres datoformat til år og måned\n",
    "mnd_lån.index = mnd_lån.index.to_period('M')"
   ]
  },
  {
   "cell_type": "code",
   "execution_count": 18,
   "metadata": {},
   "outputs": [],
   "source": [
    "# Her navngives kolonner\n",
    "mnd_lån.columns = ['Lånerente']\n",
    "mnd_lån = mnd_lån['1973-02':]"
   ]
  },
  {
   "cell_type": "markdown",
   "metadata": {},
   "source": [
    "# Konstruering af porteføljer"
   ]
  },
  {
   "cell_type": "markdown",
   "metadata": {},
   "source": [
    "## Statiske porteføljer"
   ]
  },
  {
   "cell_type": "markdown",
   "metadata": {},
   "source": [
    "### Aktie portefølje bestående af S&P500"
   ]
  },
  {
   "cell_type": "code",
   "execution_count": 19,
   "metadata": {},
   "outputs": [],
   "source": [
    "pf_aktie = pd.DataFrame({'Aktier': mnd_afkast['Aktier']})"
   ]
  },
  {
   "cell_type": "markdown",
   "metadata": {},
   "source": [
    "### Traditionel 60/40 portefølje"
   ]
  },
  {
   "cell_type": "code",
   "execution_count": 20,
   "metadata": {},
   "outputs": [],
   "source": [
    "# Her antages det at der rebalanceres månedligt\n",
    "pf_6040 = 0.6*mnd_afkast['Aktier'] + 0.4*mnd_afkast['Obligationer']"
   ]
  },
  {
   "cell_type": "code",
   "execution_count": 21,
   "metadata": {},
   "outputs": [],
   "source": [
    "pf_6040 = pd.DataFrame({'60/40 portefølje': pf_6040})"
   ]
  },
  {
   "cell_type": "markdown",
   "metadata": {},
   "source": [
    "## Risk Parity porteføljer"
   ]
  },
  {
   "cell_type": "markdown",
   "metadata": {},
   "source": [
    "### Funktion til optimering af RP vægte"
   ]
  },
  {
   "cell_type": "code",
   "execution_count": 22,
   "metadata": {},
   "outputs": [],
   "source": [
    "# --------------------- Opdateret ud fra Bai et al, formel (13) - med kovarianser som input\n",
    "from scipy.optimize import minimize\n",
    "\n",
    "# Funktion der finder de optimale Risk Parity vægte \n",
    "def optimale_rp_vægte(cov):\n",
    "    \"\"\"\n",
    "    Denne funktion finder de optimale Risk Parity vægte, \n",
    "    givet en tidsserie med månedlige kovarianser.\n",
    "    \"\"\"  \n",
    "    n_aktiver = cov.shape[1]\n",
    "    date_index = cov.index.get_level_values(0)\n",
    "    datoindex = []\n",
    "    for date, cov_date in cov.groupby(date_index): \n",
    "        datoindex.append(date)\n",
    "    optimale_rul_rp_vægte = pd.DataFrame(columns = ['Vægt obl.', 'Vægt akt.'], index=datoindex)\n",
    "    \n",
    "    # Her laves en DataFrame med værdier svarende til index nummer, så vi kan lokalisere \n",
    "    # værdien der skal bruges med .iloc. Dette bruges i for-loopet til at finde værdien dagen før, \n",
    "    # der skal indgå som gæt\n",
    "    step = pd.DataFrame(columns = ['step'], index=datoindex)   \n",
    "    step['step'] = np.arange(len(datoindex))   \n",
    "    \n",
    "    for date, cov_date in cov.groupby(date_index):\n",
    "        if step['step'].loc[date] == 0:\n",
    "            gæt = 1/ n_aktiver\n",
    "        else:\n",
    "            gæt = optimale_rul_rp_vægte.iloc[step.loc[date]-1]\n",
    "        cov_mat = cov_date.reset_index('Date', drop=True).to_numpy()\n",
    "        rp_vægte = target_risk_contributions(cov_mat, gæt)\n",
    "        optimale_rul_rp_vægte.loc[date] = rp_vægte \n",
    "        \n",
    "    return optimale_rul_rp_vægte\n",
    "\n",
    "def target_risk_contributions(cov, gæt):\n",
    "    \"\"\"\n",
    "    Returnerer de porteføljevægte, der sikrer at risikobudgettet for\n",
    "    det enkelte aktiv er så tæt på risikobudget som muligt,\n",
    "    givet en kovariansmatrice.\n",
    "    gæt anvendes i funktionen msd_risk\n",
    "    \"\"\"\n",
    "    n = cov.shape[1] # antal aktiver\n",
    "    bounds = ((0.0, 1.0),) * n # Vægte skal ligge mellem 0 og 1\n",
    "    beta=1 # Beta sættes lig 1, da vi har en long only portefølje\n",
    "    # Begrænsning nedenfor, vægte skal summe til 1\n",
    "    weights_sum_to_1 = {'type': 'eq',\n",
    "                        'fun': lambda weights: np.sum(weights) - 1\n",
    "    }\n",
    "    def msd_risk(weights, cov, beta=1):\n",
    "        \"\"\"\n",
    "        Objective funktionen er her sat lig (13) i Bai et al\n",
    "        \"\"\"\n",
    "        antal_aktiver = cov.shape[1]\n",
    "        risiko_budget = 1/antal_aktiver \n",
    "        res = 0.5 * np.dot(np.dot(weights, cov), weights.T) - np.sum(risiko_budget * np.log(weights*beta))\n",
    "        return res\n",
    "    \n",
    "    weights = minimize(msd_risk, gæt,\n",
    "                       args=(cov, beta), method='SLSQP',\n",
    "                       options={'disp': False},\n",
    "                       constraints=(weights_sum_to_1,),\n",
    "                       bounds=bounds)\n",
    "    return weights.x"
   ]
  },
  {
   "cell_type": "markdown",
   "metadata": {},
   "source": [
    "### Kovariansmatrice"
   ]
  },
  {
   "cell_type": "code",
   "execution_count": 23,
   "metadata": {},
   "outputs": [],
   "source": [
    "# Kovarians matrice med 5 års rullende vindue - til validering af risikobidrag\n",
    "cov_rul = mnd_afkast.rolling(60).cov()\n",
    "cov_rul.index.names = ['Date', 'Aktiv']\n",
    "cov_test = cov_rul.iloc[120:] # Her fjernes de første 60 måneder, da de har NaN værdier"
   ]
  },
  {
   "cell_type": "markdown",
   "metadata": {},
   "source": [
    "### Beregning af vægte i RP portefølje - ud fra optimizer"
   ]
  },
  {
   "cell_type": "code",
   "execution_count": 24,
   "metadata": {},
   "outputs": [],
   "source": [
    "rp_ug_vægte = optimale_rp_vægte(cov_test)"
   ]
  },
  {
   "cell_type": "code",
   "execution_count": 25,
   "metadata": {},
   "outputs": [
    {
     "data": {
      "text/plain": [
       "<AxesSubplot:>"
      ]
     },
     "execution_count": 25,
     "metadata": {},
     "output_type": "execute_result"
    },
    {
     "data": {
      "image/png": "[encoded data removed]",
      "text/plain": [
       "<Figure size 432x288 with 1 Axes>"
      ]
     },
     "metadata": {
      "needs_background": "light"
     },
     "output_type": "display_data"
    }
   ],
   "source": [
    "rp_ug_vægte.plot()"
   ]
  },
  {
   "cell_type": "markdown",
   "metadata": {},
   "source": [
    "### Validering af vægte, ved beregning af risikobidrag"
   ]
  },
  {
   "cell_type": "code",
   "execution_count": 26,
   "metadata": {},
   "outputs": [],
   "source": [
    "def risk_contribution(weights,cov):\n",
    "    \"\"\"\n",
    "    Beregner risikobidrag i procent af den samlede portefølje volatilitet,\n",
    "    givet vægte og en kovariansmatrice\n",
    "    \"\"\"\n",
    "    total_portfolio_vol =  (weights.T @ cov @ weights)**0.5\n",
    "    \n",
    "    # Marginal contribution of each asset\n",
    "    marginal_contrib = cov@weights\n",
    "    \n",
    "    # Risk contribution for each asset\n",
    "    risk_contrib = np.multiply(marginal_contrib,weights.T)/total_portfolio_vol\n",
    "    risk_contrib_pct = risk_contrib/total_portfolio_vol\n",
    "    return risk_contrib_pct\n",
    "\n",
    "def r_bidrag(w, cov):\n",
    "    \"\"\"\n",
    "    Funktion der returnerer en DataFrame med det procentvise risikobidrag\n",
    "    for hvert aktiv, givet tidsserier med vægte og kovariansmatricer\n",
    "    \"\"\"\n",
    "    datoer = w.index\n",
    "    n_steps = len(datoer)\n",
    "    risiko_b = pd.DataFrame().reindex_like(w)\n",
    "    risiko_b.columns = ['RB obl.', 'RB akt.']\n",
    "    rb = 0\n",
    "    for step in range(n_steps):\n",
    "        # For cov ganges step med antal aktiver, for at få alle rækker i kovariansmatricen med\n",
    "        rb = risk_contribution(w.iloc[step].ravel(), cov.iloc[step*2:step*2+2]) \n",
    "        risiko_b.iloc[step] = rb.ravel()      \n",
    "    return risiko_b"
   ]
  },
  {
   "cell_type": "code",
   "execution_count": 27,
   "metadata": {},
   "outputs": [],
   "source": [
    "risikobidrag = r_bidrag(rp_ug_vægte, cov_test)"
   ]
  },
  {
   "cell_type": "code",
   "execution_count": 28,
   "metadata": {},
   "outputs": [
    {
     "data": {
      "text/plain": [
       "<AxesSubplot:>"
      ]
     },
     "execution_count": 28,
     "metadata": {},
     "output_type": "execute_result"
    },
    {
     "data": {
      "image/png": "[encoded data removed]",
      "text/plain": [
       "<Figure size 432x288 with 1 Axes>"
      ]
     },
     "metadata": {
      "needs_background": "light"
     },
     "output_type": "display_data"
    }
   ],
   "source": [
    "risikobidrag.plot()"
   ]
  },
  {
   "cell_type": "markdown",
   "metadata": {},
   "source": [
    "## Naiv Risk Parity"
   ]
  },
  {
   "cell_type": "code",
   "execution_count": 29,
   "metadata": {},
   "outputs": [
    {
     "data": {
      "text/html": [
       "<div>\n",
       "<style scoped>\n",
       "    .dataframe tbody tr th:only-of-type {\n",
       "        vertical-align: middle;\n",
       "    }\n",
       "\n",
       "    .dataframe tbody tr th {\n",
       "        vertical-align: top;\n",
       "    }\n",
       "\n",
       "    .dataframe thead th {\n",
       "        text-align: right;\n",
       "    }\n",
       "</style>\n",
       "<table border=\"1\" class=\"dataframe\">\n",
       "  <thead>\n",
       "    <tr style=\"text-align: right;\">\n",
       "      <th></th>\n",
       "      <th>Obligationer</th>\n",
       "      <th>Aktier</th>\n",
       "    </tr>\n",
       "    <tr>\n",
       "      <th>Date</th>\n",
       "      <th></th>\n",
       "      <th></th>\n",
       "    </tr>\n",
       "  </thead>\n",
       "  <tbody>\n",
       "    <tr>\n",
       "      <th>1978-02</th>\n",
       "      <td>0.833150</td>\n",
       "      <td>0.166850</td>\n",
       "    </tr>\n",
       "    <tr>\n",
       "      <th>1978-03</th>\n",
       "      <td>0.833777</td>\n",
       "      <td>0.166223</td>\n",
       "    </tr>\n",
       "    <tr>\n",
       "      <th>1978-04</th>\n",
       "      <td>0.836459</td>\n",
       "      <td>0.163541</td>\n",
       "    </tr>\n",
       "    <tr>\n",
       "      <th>1978-05</th>\n",
       "      <td>0.836188</td>\n",
       "      <td>0.163812</td>\n",
       "    </tr>\n",
       "    <tr>\n",
       "      <th>1978-06</th>\n",
       "      <td>0.835822</td>\n",
       "      <td>0.164178</td>\n",
       "    </tr>\n",
       "    <tr>\n",
       "      <th>...</th>\n",
       "      <td>...</td>\n",
       "      <td>...</td>\n",
       "    </tr>\n",
       "    <tr>\n",
       "      <th>2020-08</th>\n",
       "      <td>0.789498</td>\n",
       "      <td>0.210502</td>\n",
       "    </tr>\n",
       "    <tr>\n",
       "      <th>2020-09</th>\n",
       "      <td>0.790648</td>\n",
       "      <td>0.209352</td>\n",
       "    </tr>\n",
       "    <tr>\n",
       "      <th>2020-10</th>\n",
       "      <td>0.786283</td>\n",
       "      <td>0.213717</td>\n",
       "    </tr>\n",
       "    <tr>\n",
       "      <th>2020-11</th>\n",
       "      <td>0.794078</td>\n",
       "      <td>0.205922</td>\n",
       "    </tr>\n",
       "    <tr>\n",
       "      <th>2020-12</th>\n",
       "      <td>0.793934</td>\n",
       "      <td>0.206066</td>\n",
       "    </tr>\n",
       "  </tbody>\n",
       "</table>\n",
       "<p>515 rows × 2 columns</p>\n",
       "</div>"
      ],
      "text/plain": [
       "         Obligationer    Aktier\n",
       "Date                           \n",
       "1978-02      0.833150  0.166850\n",
       "1978-03      0.833777  0.166223\n",
       "1978-04      0.836459  0.163541\n",
       "1978-05      0.836188  0.163812\n",
       "1978-06      0.835822  0.164178\n",
       "...               ...       ...\n",
       "2020-08      0.789498  0.210502\n",
       "2020-09      0.790648  0.209352\n",
       "2020-10      0.786283  0.213717\n",
       "2020-11      0.794078  0.205922\n",
       "2020-12      0.793934  0.206066\n",
       "\n",
       "[515 rows x 2 columns]"
      ]
     },
     "execution_count": 29,
     "metadata": {},
     "output_type": "execute_result"
    }
   ],
   "source": [
    "std = mnd_afkast.rolling(60).std()[60:]\n",
    "std_invers = (1/std)\n",
    "invers = pd.DataFrame({'invers': std_invers.sum(axis=1)})\n",
    "vægte_naiv_rp = std_invers.divide(invers['invers'], axis=0)\n",
    "vægte_naiv_rp"
   ]
  },
  {
   "cell_type": "code",
   "execution_count": 30,
   "metadata": {},
   "outputs": [
    {
     "data": {
      "text/plain": [
       "<AxesSubplot:xlabel='Date'>"
      ]
     },
     "execution_count": 30,
     "metadata": {},
     "output_type": "execute_result"
    },
    {
     "data": {
      "image/png": "[encoded data removed]",
      "text/plain": [
       "<Figure size 432x288 with 1 Axes>"
      ]
     },
     "metadata": {
      "needs_background": "light"
     },
     "output_type": "display_data"
    }
   ],
   "source": [
    "vægte_naiv_rp.plot()"
   ]
  },
  {
   "cell_type": "code",
   "execution_count": 31,
   "metadata": {},
   "outputs": [
    {
     "data": {
      "text/html": [
       "<div>\n",
       "<style scoped>\n",
       "    .dataframe tbody tr th:only-of-type {\n",
       "        vertical-align: middle;\n",
       "    }\n",
       "\n",
       "    .dataframe tbody tr th {\n",
       "        vertical-align: top;\n",
       "    }\n",
       "\n",
       "    .dataframe thead th {\n",
       "        text-align: right;\n",
       "    }\n",
       "</style>\n",
       "<table border=\"1\" class=\"dataframe\">\n",
       "  <thead>\n",
       "    <tr style=\"text-align: right;\">\n",
       "      <th></th>\n",
       "      <th>RB obl.</th>\n",
       "      <th>RB akt.</th>\n",
       "    </tr>\n",
       "    <tr>\n",
       "      <th>Date</th>\n",
       "      <th></th>\n",
       "      <th></th>\n",
       "    </tr>\n",
       "  </thead>\n",
       "  <tbody>\n",
       "    <tr>\n",
       "      <th>1978-02</th>\n",
       "      <td>0.5</td>\n",
       "      <td>0.5</td>\n",
       "    </tr>\n",
       "    <tr>\n",
       "      <th>1978-03</th>\n",
       "      <td>0.5</td>\n",
       "      <td>0.5</td>\n",
       "    </tr>\n",
       "    <tr>\n",
       "      <th>1978-04</th>\n",
       "      <td>0.5</td>\n",
       "      <td>0.5</td>\n",
       "    </tr>\n",
       "    <tr>\n",
       "      <th>1978-05</th>\n",
       "      <td>0.5</td>\n",
       "      <td>0.5</td>\n",
       "    </tr>\n",
       "    <tr>\n",
       "      <th>1978-06</th>\n",
       "      <td>0.5</td>\n",
       "      <td>0.5</td>\n",
       "    </tr>\n",
       "    <tr>\n",
       "      <th>...</th>\n",
       "      <td>...</td>\n",
       "      <td>...</td>\n",
       "    </tr>\n",
       "    <tr>\n",
       "      <th>2020-08</th>\n",
       "      <td>0.5</td>\n",
       "      <td>0.5</td>\n",
       "    </tr>\n",
       "    <tr>\n",
       "      <th>2020-09</th>\n",
       "      <td>0.5</td>\n",
       "      <td>0.5</td>\n",
       "    </tr>\n",
       "    <tr>\n",
       "      <th>2020-10</th>\n",
       "      <td>0.5</td>\n",
       "      <td>0.5</td>\n",
       "    </tr>\n",
       "    <tr>\n",
       "      <th>2020-11</th>\n",
       "      <td>0.5</td>\n",
       "      <td>0.5</td>\n",
       "    </tr>\n",
       "    <tr>\n",
       "      <th>2020-12</th>\n",
       "      <td>0.5</td>\n",
       "      <td>0.5</td>\n",
       "    </tr>\n",
       "  </tbody>\n",
       "</table>\n",
       "<p>515 rows × 2 columns</p>\n",
       "</div>"
      ],
      "text/plain": [
       "         RB obl.  RB akt.\n",
       "Date                     \n",
       "1978-02      0.5      0.5\n",
       "1978-03      0.5      0.5\n",
       "1978-04      0.5      0.5\n",
       "1978-05      0.5      0.5\n",
       "1978-06      0.5      0.5\n",
       "...          ...      ...\n",
       "2020-08      0.5      0.5\n",
       "2020-09      0.5      0.5\n",
       "2020-10      0.5      0.5\n",
       "2020-11      0.5      0.5\n",
       "2020-12      0.5      0.5\n",
       "\n",
       "[515 rows x 2 columns]"
      ]
     },
     "execution_count": 31,
     "metadata": {},
     "output_type": "execute_result"
    }
   ],
   "source": [
    "risikobidrag_naiv_rp = r_bidrag(vægte_naiv_rp, cov_test)\n",
    "risikobidrag_naiv_rp"
   ]
  },
  {
   "cell_type": "markdown",
   "metadata": {},
   "source": [
    "# Naiv RP - ugearet afkast"
   ]
  },
  {
   "cell_type": "code",
   "execution_count": 32,
   "metadata": {},
   "outputs": [],
   "source": [
    "afkast_aktiver = mnd_afkast['1978-02':]\n",
    "afkast_naiv_rp_ug = vægte_naiv_rp.iloc[:,0] * afkast_aktiver.iloc[:,0]+vægte_naiv_rp.iloc[:,1] * afkast_aktiver.iloc[:,1]\n",
    "afkast_naiv_rp_ug = pd.DataFrame({'Risk Parity Ugearet afkast': afkast_naiv_rp_ug})"
   ]
  },
  {
   "cell_type": "markdown",
   "metadata": {},
   "source": [
    "# Gearing af naiv RP portefølje"
   ]
  },
  {
   "cell_type": "markdown",
   "metadata": {},
   "source": [
    "$$ w_{a} * R_{p} + (1 - w_{a}) * r_{borrowing} $$"
   ]
  },
  {
   "cell_type": "code",
   "execution_count": 33,
   "metadata": {},
   "outputs": [],
   "source": [
    "# Her samles RP ugearet og lånerente i en DataFrame\n",
    "rp_aktiver = pd.DataFrame({'Risk Parity Ugearet afkast': afkast_naiv_rp_ug['Risk Parity Ugearet afkast'], 'Lånerente': mnd_lån['1978-02':'2020-12']['Lånerente']})"
   ]
  },
  {
   "cell_type": "code",
   "execution_count": 34,
   "metadata": {},
   "outputs": [],
   "source": [
    "def objekt_funktion_gearet(ønsket_volatilitet, cov):\n",
    "    \n",
    "    n = cov.shape[0] # n is the number of assets\n",
    "    init_guess = np.repeat(1/n, n) # Initial guess is 1/n per asset\n",
    "    bounds = ((-5.0, 5.0),) * n # an N-tuple of 2-tuples!\n",
    "    \n",
    "    #Constraint\n",
    "    weights_sum_to_1 = {'type': 'eq',\n",
    "                        'fun': lambda weights: np.sum(weights)-1\n",
    "    }    \n",
    "    \n",
    "    # Objective function\n",
    "    def objective(weights, ønsket_volatilitet, cov):\n",
    "        portfolio_vol = np.dot(np.dot(weights.T, cov), weights)**0.5\n",
    "        return ((portfolio_vol - ønsket_volatilitet)**2)\n",
    "    \n",
    "    weights = minimize(objective, init_guess, \n",
    "                       args=(ønsket_volatilitet, cov), method='SLSQP',\n",
    "                       options={'disp': False},\n",
    "                       constraints=(weights_sum_to_1,), \n",
    "                       bounds=bounds)\n",
    "            \n",
    "    return weights.x\n",
    "\n",
    "\n",
    "def vægte_gearet_rp(samlet_afkast, ønsket_volatilitet):\n",
    "\n",
    "    vægte = pd.DataFrame(index=samlet_afkast.index, columns=np.arange(2))\n",
    "    vægte.columns = ['Vægt RP ugearet.', 'Vægt Lånerente']\n",
    "    datoer = samlet_afkast.index\n",
    "    n_steps = len(datoer)\n",
    "    rp_g_vægte = 0\n",
    "    \n",
    "    for step in range(n_steps):\n",
    "        if step >= 60:\n",
    "            cov_rul = samlet_afkast.iloc[step-60:step].cov()*12\n",
    "            rp_g_vægte = objekt_funktion_gearet(ønsket_volatilitet, cov_rul)\n",
    "        \n",
    "        vægte.iloc[step] = rp_g_vægte      \n",
    "        \n",
    "    return vægte.iloc[60:n_steps]"
   ]
  },
  {
   "cell_type": "code",
   "execution_count": 35,
   "metadata": {},
   "outputs": [],
   "source": [
    "vægte_rp_g = vægte_gearet_rp(rp_aktiver, 0.1)"
   ]
  },
  {
   "cell_type": "code",
   "execution_count": 36,
   "metadata": {},
   "outputs": [
    {
     "data": {
      "text/html": [
       "<div>\n",
       "<style scoped>\n",
       "    .dataframe tbody tr th:only-of-type {\n",
       "        vertical-align: middle;\n",
       "    }\n",
       "\n",
       "    .dataframe tbody tr th {\n",
       "        vertical-align: top;\n",
       "    }\n",
       "\n",
       "    .dataframe thead th {\n",
       "        text-align: right;\n",
       "    }\n",
       "</style>\n",
       "<table border=\"1\" class=\"dataframe\">\n",
       "  <thead>\n",
       "    <tr style=\"text-align: right;\">\n",
       "      <th></th>\n",
       "      <th>Vægt RP ugearet.</th>\n",
       "      <th>Vægt Lånerente</th>\n",
       "    </tr>\n",
       "  </thead>\n",
       "  <tbody>\n",
       "    <tr>\n",
       "      <th>1983-02</th>\n",
       "      <td>1.16706</td>\n",
       "      <td>-0.167059</td>\n",
       "    </tr>\n",
       "    <tr>\n",
       "      <th>1983-03</th>\n",
       "      <td>1.16466</td>\n",
       "      <td>-0.164658</td>\n",
       "    </tr>\n",
       "    <tr>\n",
       "      <th>1983-04</th>\n",
       "      <td>1.16461</td>\n",
       "      <td>-0.164615</td>\n",
       "    </tr>\n",
       "    <tr>\n",
       "      <th>1983-05</th>\n",
       "      <td>1.14895</td>\n",
       "      <td>-0.148948</td>\n",
       "    </tr>\n",
       "    <tr>\n",
       "      <th>1983-06</th>\n",
       "      <td>1.13753</td>\n",
       "      <td>-0.137533</td>\n",
       "    </tr>\n",
       "    <tr>\n",
       "      <th>...</th>\n",
       "      <td>...</td>\n",
       "      <td>...</td>\n",
       "    </tr>\n",
       "    <tr>\n",
       "      <th>2020-08</th>\n",
       "      <td>2.91953</td>\n",
       "      <td>-1.91953</td>\n",
       "    </tr>\n",
       "    <tr>\n",
       "      <th>2020-09</th>\n",
       "      <td>3.00025</td>\n",
       "      <td>-2.00025</td>\n",
       "    </tr>\n",
       "    <tr>\n",
       "      <th>2020-10</th>\n",
       "      <td>2.96831</td>\n",
       "      <td>-1.96831</td>\n",
       "    </tr>\n",
       "    <tr>\n",
       "      <th>2020-11</th>\n",
       "      <td>2.92493</td>\n",
       "      <td>-1.92493</td>\n",
       "    </tr>\n",
       "    <tr>\n",
       "      <th>2020-12</th>\n",
       "      <td>2.82977</td>\n",
       "      <td>-1.82977</td>\n",
       "    </tr>\n",
       "  </tbody>\n",
       "</table>\n",
       "<p>455 rows × 2 columns</p>\n",
       "</div>"
      ],
      "text/plain": [
       "        Vægt RP ugearet. Vægt Lånerente\n",
       "1983-02          1.16706      -0.167059\n",
       "1983-03          1.16466      -0.164658\n",
       "1983-04          1.16461      -0.164615\n",
       "1983-05          1.14895      -0.148948\n",
       "1983-06          1.13753      -0.137533\n",
       "...                  ...            ...\n",
       "2020-08          2.91953       -1.91953\n",
       "2020-09          3.00025       -2.00025\n",
       "2020-10          2.96831       -1.96831\n",
       "2020-11          2.92493       -1.92493\n",
       "2020-12          2.82977       -1.82977\n",
       "\n",
       "[455 rows x 2 columns]"
      ]
     },
     "execution_count": 36,
     "metadata": {},
     "output_type": "execute_result"
    }
   ],
   "source": [
    "vægte_rp_g"
   ]
  },
  {
   "cell_type": "code",
   "execution_count": 37,
   "metadata": {},
   "outputs": [],
   "source": [
    "afkast_rp_g = vægte_rp_g.iloc[:,0] * rp_aktiver['1983-02':'2020-12'].iloc[:,0]+vægte_rp_g.iloc[:,1] * rp_aktiver['1983-02':'2020-12'].iloc[:,1]\n",
    "afkast_rp_g = pd.DataFrame({'Risk Parity Gearet afkast': afkast_rp_g})"
   ]
  },
  {
   "cell_type": "code",
   "execution_count": 38,
   "metadata": {},
   "outputs": [],
   "source": [
    "pf_afkast = pd.DataFrame({'Aktie portefølje': pf_aktie['Aktier']['1983-02':], '60/40 portefølje': pf_6040['60/40 portefølje']['1983-02':], 'Risk Parity Ugearet': afkast_naiv_rp_ug['Risk Parity Ugearet afkast']['1983-02':],'Risk Parity Gearet': afkast_rp_g['Risk Parity Gearet afkast']})"
   ]
  },
  {
   "cell_type": "markdown",
   "metadata": {},
   "source": [
    "# Sammenligning af porteføljer"
   ]
  },
  {
   "cell_type": "markdown",
   "metadata": {},
   "source": [
    "## Wealth index for samlet periode"
   ]
  },
  {
   "cell_type": "code",
   "execution_count": 39,
   "metadata": {},
   "outputs": [],
   "source": [
    "wi = 1000*(1+pf_afkast).cumprod()"
   ]
  },
  {
   "cell_type": "code",
   "execution_count": 40,
   "metadata": {},
   "outputs": [
    {
     "data": {
      "text/plain": [
       "<AxesSubplot:>"
      ]
     },
     "execution_count": 40,
     "metadata": {},
     "output_type": "execute_result"
    },
    {
     "data": {
      "image/png": "[encoded data removed]",
      "text/plain": [
       "<Figure size 432x288 with 1 Axes>"
      ]
     },
     "metadata": {
      "needs_background": "light"
     },
     "output_type": "display_data"
    }
   ],
   "source": [
    "wi.plot()"
   ]
  },
  {
   "cell_type": "markdown",
   "metadata": {},
   "source": [
    "## Portefølje statistik for samlet periode"
   ]
  },
  {
   "cell_type": "code",
   "execution_count": 41,
   "metadata": {},
   "outputs": [],
   "source": [
    "risikofri_rente = np.array(mnd_rf['1983-02':])"
   ]
  },
  {
   "cell_type": "code",
   "execution_count": 42,
   "metadata": {},
   "outputs": [
    {
     "data": {
      "text/html": [
       "<div>\n",
       "<style scoped>\n",
       "    .dataframe tbody tr th:only-of-type {\n",
       "        vertical-align: middle;\n",
       "    }\n",
       "\n",
       "    .dataframe tbody tr th {\n",
       "        vertical-align: top;\n",
       "    }\n",
       "\n",
       "    .dataframe thead th {\n",
       "        text-align: right;\n",
       "    }\n",
       "</style>\n",
       "<table border=\"1\" class=\"dataframe\">\n",
       "  <thead>\n",
       "    <tr style=\"text-align: right;\">\n",
       "      <th></th>\n",
       "      <th>Annualized Return</th>\n",
       "      <th>Annualized Vol</th>\n",
       "      <th>Sharpe Ratio</th>\n",
       "      <th>Max Drawdown</th>\n",
       "    </tr>\n",
       "  </thead>\n",
       "  <tbody>\n",
       "    <tr>\n",
       "      <th>Aktie portefølje</th>\n",
       "      <td>0.089562</td>\n",
       "      <td>0.149760</td>\n",
       "      <td>0.233783</td>\n",
       "      <td>-0.525559</td>\n",
       "    </tr>\n",
       "    <tr>\n",
       "      <th>60/40 portefølje</th>\n",
       "      <td>0.083859</td>\n",
       "      <td>0.091108</td>\n",
       "      <td>0.325081</td>\n",
       "      <td>-0.319125</td>\n",
       "    </tr>\n",
       "    <tr>\n",
       "      <th>Risk Parity Ugearet</th>\n",
       "      <td>0.075762</td>\n",
       "      <td>0.051042</td>\n",
       "      <td>0.429501</td>\n",
       "      <td>-0.102858</td>\n",
       "    </tr>\n",
       "    <tr>\n",
       "      <th>Risk Parity Gearet</th>\n",
       "      <td>0.113548</td>\n",
       "      <td>0.099060</td>\n",
       "      <td>0.584436</td>\n",
       "      <td>-0.297732</td>\n",
       "    </tr>\n",
       "  </tbody>\n",
       "</table>\n",
       "</div>"
      ],
      "text/plain": [
       "                     Annualized Return  Annualized Vol  Sharpe Ratio  \\\n",
       "Aktie portefølje              0.089562        0.149760      0.233783   \n",
       "60/40 portefølje              0.083859        0.091108      0.325081   \n",
       "Risk Parity Ugearet           0.075762        0.051042      0.429501   \n",
       "Risk Parity Gearet            0.113548        0.099060      0.584436   \n",
       "\n",
       "                     Max Drawdown  \n",
       "Aktie portefølje        -0.525559  \n",
       "60/40 portefølje        -0.319125  \n",
       "Risk Parity Ugearet     -0.102858  \n",
       "Risk Parity Gearet      -0.297732  "
      ]
     },
     "execution_count": 42,
     "metadata": {},
     "output_type": "execute_result"
    }
   ],
   "source": [
    "d1.stats(pf_afkast, risikofri_rente)"
   ]
  },
  {
   "cell_type": "markdown",
   "metadata": {},
   "source": [
    "## Performance under kriser\n",
    "Ref til https://www.nber.org/research/data/us-business-cycle-expansions-and-contractions\n",
    "\n",
    "OBS: Det er artiklen 'Fact and fiction about low risk investing' fra The Journal of Portfolio management' vi har brugt som udgangspunkt for periodeafgrænsning"
   ]
  },
  {
   "cell_type": "code",
   "execution_count": 43,
   "metadata": {},
   "outputs": [],
   "source": [
    "# Fact and fiction perioder\n",
    "p_1987_1987 = pf_afkast['1987-08':'1987-11']\n",
    "p_2000_2002 = pf_afkast['2000-08':'2002-09']\n",
    "p_2007_2009 = pf_afkast['2007-10':'2009-02']\n",
    "p_2020_2020 = pf_afkast['2020-01':'2020-03']"
   ]
  },
  {
   "cell_type": "code",
   "execution_count": 44,
   "metadata": {},
   "outputs": [],
   "source": [
    "# Beregning af akkumulerede afkast\n",
    "ak_1987_1987 = (1+p_1987_1987).prod()-1\n",
    "ak_2000_2002 = (1+p_2000_2002).prod()-1\n",
    "ak_2007_2009 = (1+p_2007_2009).prod()-1\n",
    "ak_2020_2020 = (1+p_2020_2020).prod()-1"
   ]
  },
  {
   "cell_type": "code",
   "execution_count": 45,
   "metadata": {},
   "outputs": [
    {
     "data": {
      "text/html": [
       "<div>\n",
       "<style scoped>\n",
       "    .dataframe tbody tr th:only-of-type {\n",
       "        vertical-align: middle;\n",
       "    }\n",
       "\n",
       "    .dataframe tbody tr th {\n",
       "        vertical-align: top;\n",
       "    }\n",
       "\n",
       "    .dataframe thead th {\n",
       "        text-align: right;\n",
       "    }\n",
       "</style>\n",
       "<table border=\"1\" class=\"dataframe\">\n",
       "  <thead>\n",
       "    <tr style=\"text-align: right;\">\n",
       "      <th></th>\n",
       "      <th>1987-08 til 1987-11</th>\n",
       "      <th>2000-08 til 2002-09</th>\n",
       "      <th>2007-10 til 2009-02</th>\n",
       "      <th>2020-01 til 2020-03</th>\n",
       "    </tr>\n",
       "    <tr>\n",
       "      <th>Akkumuleret afkast</th>\n",
       "      <th></th>\n",
       "      <th></th>\n",
       "      <th></th>\n",
       "      <th></th>\n",
       "    </tr>\n",
       "  </thead>\n",
       "  <tbody>\n",
       "    <tr>\n",
       "      <th>Aktie portefølje</th>\n",
       "      <td>-0.277286</td>\n",
       "      <td>-0.430205</td>\n",
       "      <td>-0.518526</td>\n",
       "      <td>-0.200011</td>\n",
       "    </tr>\n",
       "    <tr>\n",
       "      <th>60/40 portefølje</th>\n",
       "      <td>-0.162033</td>\n",
       "      <td>-0.203972</td>\n",
       "      <td>-0.310928</td>\n",
       "      <td>-0.092923</td>\n",
       "    </tr>\n",
       "    <tr>\n",
       "      <th>Risk Parity Ugearet</th>\n",
       "      <td>-0.060572</td>\n",
       "      <td>0.101917</td>\n",
       "      <td>-0.088788</td>\n",
       "      <td>0.013323</td>\n",
       "    </tr>\n",
       "    <tr>\n",
       "      <th>Risk Parity Gearet</th>\n",
       "      <td>-0.088275</td>\n",
       "      <td>0.125721</td>\n",
       "      <td>-0.276982</td>\n",
       "      <td>0.036155</td>\n",
       "    </tr>\n",
       "  </tbody>\n",
       "</table>\n",
       "</div>"
      ],
      "text/plain": [
       "                     1987-08 til 1987-11  2000-08 til 2002-09  \\\n",
       "Akkumuleret afkast                                              \n",
       "Aktie portefølje               -0.277286            -0.430205   \n",
       "60/40 portefølje               -0.162033            -0.203972   \n",
       "Risk Parity Ugearet            -0.060572             0.101917   \n",
       "Risk Parity Gearet             -0.088275             0.125721   \n",
       "\n",
       "                     2007-10 til 2009-02  2020-01 til 2020-03  \n",
       "Akkumuleret afkast                                             \n",
       "Aktie portefølje               -0.518526            -0.200011  \n",
       "60/40 portefølje               -0.310928            -0.092923  \n",
       "Risk Parity Ugearet            -0.088788             0.013323  \n",
       "Risk Parity Gearet             -0.276982             0.036155  "
      ]
     },
     "execution_count": 45,
     "metadata": {},
     "output_type": "execute_result"
    }
   ],
   "source": [
    "tabel = pd.DataFrame({ '1987-08 til 1987-11': ak_1987_1987, '2000-08 til 2002-09': ak_2000_2002, '2007-10 til 2009-02': ak_2007_2009, '2020-01 til 2020-03': ak_2020_2020})\n",
    "tabel.index.names = ['Akkumuleret afkast']\n",
    "tabel"
   ]
  },
  {
   "cell_type": "markdown",
   "metadata": {},
   "source": [
    "## Risikobidrag for 60/40"
   ]
  },
  {
   "cell_type": "code",
   "execution_count": 46,
   "metadata": {},
   "outputs": [],
   "source": [
    "vægte_60_40 = pd.DataFrame(columns = ['Vægt obl.', 'Vægt akt.'], index=pf_6040.index)\n",
    "vægte_60_40[['Vægt obl.', 'Vægt akt.']] = [0.4, 0.6]\n",
    "vægte_60_40 = vægte_60_40['1983-02':]"
   ]
  },
  {
   "cell_type": "code",
   "execution_count": 47,
   "metadata": {},
   "outputs": [
    {
     "data": {
      "text/html": [
       "<div>\n",
       "<style scoped>\n",
       "    .dataframe tbody tr th:only-of-type {\n",
       "        vertical-align: middle;\n",
       "    }\n",
       "\n",
       "    .dataframe tbody tr th {\n",
       "        vertical-align: top;\n",
       "    }\n",
       "\n",
       "    .dataframe thead th {\n",
       "        text-align: right;\n",
       "    }\n",
       "</style>\n",
       "<table border=\"1\" class=\"dataframe\">\n",
       "  <thead>\n",
       "    <tr style=\"text-align: right;\">\n",
       "      <th></th>\n",
       "      <th>RB obl.</th>\n",
       "      <th>RB akt.</th>\n",
       "    </tr>\n",
       "    <tr>\n",
       "      <th>Date</th>\n",
       "      <th></th>\n",
       "      <th></th>\n",
       "    </tr>\n",
       "  </thead>\n",
       "  <tbody>\n",
       "    <tr>\n",
       "      <th>1983-02</th>\n",
       "      <td>0.184103</td>\n",
       "      <td>0.815897</td>\n",
       "    </tr>\n",
       "    <tr>\n",
       "      <th>1983-03</th>\n",
       "      <td>0.183517</td>\n",
       "      <td>0.816483</td>\n",
       "    </tr>\n",
       "    <tr>\n",
       "      <th>1983-04</th>\n",
       "      <td>0.188949</td>\n",
       "      <td>0.811051</td>\n",
       "    </tr>\n",
       "    <tr>\n",
       "      <th>1983-05</th>\n",
       "      <td>0.190119</td>\n",
       "      <td>0.809881</td>\n",
       "    </tr>\n",
       "    <tr>\n",
       "      <th>1983-06</th>\n",
       "      <td>0.189104</td>\n",
       "      <td>0.810896</td>\n",
       "    </tr>\n",
       "    <tr>\n",
       "      <th>...</th>\n",
       "      <td>...</td>\n",
       "      <td>...</td>\n",
       "    </tr>\n",
       "    <tr>\n",
       "      <th>2020-08</th>\n",
       "      <td>-0.053400</td>\n",
       "      <td>1.053400</td>\n",
       "    </tr>\n",
       "    <tr>\n",
       "      <th>2020-09</th>\n",
       "      <td>-0.050642</td>\n",
       "      <td>1.050642</td>\n",
       "    </tr>\n",
       "    <tr>\n",
       "      <th>2020-10</th>\n",
       "      <td>-0.044709</td>\n",
       "      <td>1.044709</td>\n",
       "    </tr>\n",
       "    <tr>\n",
       "      <th>2020-11</th>\n",
       "      <td>-0.040957</td>\n",
       "      <td>1.040957</td>\n",
       "    </tr>\n",
       "    <tr>\n",
       "      <th>2020-12</th>\n",
       "      <td>-0.042944</td>\n",
       "      <td>1.042944</td>\n",
       "    </tr>\n",
       "  </tbody>\n",
       "</table>\n",
       "<p>455 rows × 2 columns</p>\n",
       "</div>"
      ],
      "text/plain": [
       "          RB obl.   RB akt.\n",
       "Date                       \n",
       "1983-02  0.184103  0.815897\n",
       "1983-03  0.183517  0.816483\n",
       "1983-04  0.188949  0.811051\n",
       "1983-05  0.190119  0.809881\n",
       "1983-06  0.189104  0.810896\n",
       "...           ...       ...\n",
       "2020-08 -0.053400  1.053400\n",
       "2020-09 -0.050642  1.050642\n",
       "2020-10 -0.044709  1.044709\n",
       "2020-11 -0.040957  1.040957\n",
       "2020-12 -0.042944  1.042944\n",
       "\n",
       "[455 rows x 2 columns]"
      ]
     },
     "execution_count": 47,
     "metadata": {},
     "output_type": "execute_result"
    }
   ],
   "source": [
    "risikobidrag_60_40 = r_bidrag(vægte_60_40, cov_test['1983-02':])\n",
    "risikobidrag_60_40"
   ]
  },
  {
   "cell_type": "code",
   "execution_count": 48,
   "metadata": {},
   "outputs": [
    {
     "data": {
      "text/plain": [
       "RB obl.    0.048072\n",
       "RB akt.    0.951928\n",
       "dtype: float64"
      ]
     },
     "execution_count": 48,
     "metadata": {},
     "output_type": "execute_result"
    }
   ],
   "source": [
    "risikobidrag_60_40.mean(axis=0)"
   ]
  },
  {
   "cell_type": "code",
   "execution_count": 49,
   "metadata": {},
   "outputs": [
    {
     "data": {
      "text/plain": [
       "RB obl.    0.207313\n",
       "RB akt.    1.086661\n",
       "dtype: float64"
      ]
     },
     "execution_count": 49,
     "metadata": {},
     "output_type": "execute_result"
    }
   ],
   "source": [
    "risikobidrag_60_40.max(axis=0)"
   ]
  },
  {
   "cell_type": "code",
   "execution_count": 50,
   "metadata": {},
   "outputs": [
    {
     "data": {
      "text/plain": [
       "RB obl.   -0.086661\n",
       "RB akt.    0.792687\n",
       "dtype: float64"
      ]
     },
     "execution_count": 50,
     "metadata": {},
     "output_type": "execute_result"
    }
   ],
   "source": [
    "risikobidrag_60_40.min(axis=0)"
   ]
  },
  {
   "cell_type": "code",
   "execution_count": 51,
   "metadata": {},
   "outputs": [
    {
     "data": {
      "text/plain": [
       "<AxesSubplot:xlabel='Date'>"
      ]
     },
     "execution_count": 51,
     "metadata": {},
     "output_type": "execute_result"
    },
    {
     "data": {
      "image/png": "[encoded data removed]",
      "text/plain": [
       "<Figure size 432x288 with 1 Axes>"
      ]
     },
     "metadata": {
      "needs_background": "light"
     },
     "output_type": "display_data"
    }
   ],
   "source": [
    "risikobidrag_60_40.plot()"
   ]
  },
  {
   "cell_type": "code",
   "execution_count": 52,
   "metadata": {},
   "outputs": [
    {
     "data": {
      "image/png": "[encoded data removed]",
      "text/plain": [
       "<Figure size 432x288 with 1 Axes>"
      ]
     },
     "metadata": {
      "needs_background": "light"
     },
     "output_type": "display_data"
    }
   ],
   "source": [
    "akt_obl_cov = mnd_afkast['Aktier'].rolling(60).corr(mnd_afkast['Obligationer']).dropna().plot()"
   ]
  },
  {
   "cell_type": "markdown",
   "metadata": {},
   "source": [
    "### Herfindahl index"
   ]
  },
  {
   "cell_type": "code",
   "execution_count": 53,
   "metadata": {},
   "outputs": [
    {
     "data": {
      "text/plain": [
       "<AxesSubplot:xlabel='Date'>"
      ]
     },
     "execution_count": 53,
     "metadata": {},
     "output_type": "execute_result"
    },
    {
     "data": {
      "image/png": "[encoded data removed]",
      "text/plain": [
       "<Figure size 432x288 with 1 Axes>"
      ]
     },
     "metadata": {
      "needs_background": "light"
     },
     "output_type": "display_data"
    }
   ],
   "source": [
    "HI_6040 = (risikobidrag_60_40**2).sum(axis=1)\n",
    "HI_6040.plot()"
   ]
  },
  {
   "cell_type": "code",
   "execution_count": 54,
   "metadata": {},
   "outputs": [
    {
     "data": {
      "text/plain": [
       "Date\n",
       "1978-02    0.5\n",
       "1978-03    0.5\n",
       "1978-04    0.5\n",
       "1978-05    0.5\n",
       "1978-06    0.5\n",
       "          ... \n",
       "2020-08    0.5\n",
       "2020-09    0.5\n",
       "2020-10    0.5\n",
       "2020-11    0.5\n",
       "2020-12    0.5\n",
       "Freq: M, Length: 515, dtype: float64"
      ]
     },
     "execution_count": 54,
     "metadata": {},
     "output_type": "execute_result"
    }
   ],
   "source": [
    "HI_naiv = (risikobidrag_naiv_rp**2).sum(axis=1)\n",
    "HI_naiv"
   ]
  }
 ],
 "metadata": {
  "kernelspec": {
   "display_name": "Python 3",
   "language": "python",
   "name": "python3"
  },
  "language_info": {
   "codemirror_mode": {
    "name": "ipython",
    "version": 3
   },
   "file_extension": ".py",
   "mimetype": "text/x-python",
   "name": "python",
   "nbconvert_exporter": "python",
   "pygments_lexer": "ipython3",
   "version": "3.8.5"
  }
 },
 "nbformat": 4,
 "nbformat_minor": 4
}
